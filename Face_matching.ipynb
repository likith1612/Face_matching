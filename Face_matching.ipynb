{
 "cells": [
  {
   "cell_type": "code",
   "execution_count": 1,
   "id": "52786fe1-4262-4f22-a58d-d11e40bf5e83",
   "metadata": {},
   "outputs": [],
   "source": [
    "import cv2\n",
    "import numpy as np\n",
    "import os\n"
   ]
  },
  {
   "cell_type": "code",
   "execution_count": 3,
   "id": "cb9b4ef9-9c78-4358-b659-49286371ef92",
   "metadata": {},
   "outputs": [],
   "source": [
    "# Ensure necessary directories exist\n",
    "def check_file_exists(filepath):\n",
    "    if not os.path.exists(filepath):\n",
    "        print(f\"Error: File {filepath} not found.\")\n",
    "        return False\n",
    "    return True"
   ]
  },
  {
   "cell_type": "code",
   "execution_count": 5,
   "id": "2f675487-ba7b-4589-91b7-7403680798e2",
   "metadata": {},
   "outputs": [],
   "source": [
    "# Capture image from webcam\n",
    "def capture_image(save_path=\"captured_image.jpg\"):\n",
    "    cap = cv2.VideoCapture(0)\n",
    "    while True:\n",
    "        ret, frame = cap.read()\n",
    "        cv2.imshow(\"Press 's' to capture\", frame)\n",
    "        if cv2.waitKey(1) & 0xFF == ord('s'):\n",
    "            cv2.imwrite(save_path, frame)\n",
    "            print(f\"Image saved as {save_path}\")\n",
    "            break\n",
    "    cap.release()\n",
    "    cv2.destroyAllWindows()"
   ]
  },
  {
   "cell_type": "code",
   "execution_count": 7,
   "id": "5fcdcd62-8769-4752-b378-771a2731b9d3",
   "metadata": {},
   "outputs": [],
   "source": [
    "\n",
    "# Feature-based face matching using ORB\n",
    "def match_faces(image1_path, image2_path, threshold=50):\n",
    "    img1 = cv2.imread(image1_path, cv2.IMREAD_GRAYSCALE)\n",
    "    img2 = cv2.imread(image2_path, cv2.IMREAD_GRAYSCALE)\n",
    "\n",
    "    if img1 is None or img2 is None:\n",
    "        print(\"Error: Could not load one or both images.\")\n",
    "        return\n",
    "\n",
    "    orb = cv2.ORB_create()  # ORB (Oriented FAST and Rotated BRIEF) for feature detection\n",
    "    kp1, des1 = orb.detectAndCompute(img1, None)\n",
    "    kp2, des2 = orb.detectAndCompute(img2, None)\n",
    "\n",
    "    # Use BFMatcher to find matches\n",
    "    bf = cv2.BFMatcher(cv2.NORM_HAMMING, crossCheck=True)\n",
    "    if des1 is not None and des2 is not None:\n",
    "        matches = bf.match(des1, des2)\n",
    "        matches = sorted(matches, key=lambda x: x.distance)  # Sort matches by distance\n",
    "\n",
    "        num_matching_keypoints = len(matches)\n",
    "        print(f\"Matching keypoints found: {num_matching_keypoints}\")\n",
    "\n",
    "        # Print match result based on threshold\n",
    "        if num_matching_keypoints >= threshold:\n",
    "            print(\"✅ Faces Match!\")\n",
    "        else:\n",
    "            print(\"❌ Faces Do NOT Match!\")\n",
    "\n",
    "        # Draw matches and show images\n",
    "        img_matches = cv2.drawMatches(img1, kp1, img2, kp2, matches[:30], None, flags=2)\n",
    "        cv2.imshow(\"Face Matching\", img_matches)\n",
    "        cv2.waitKey(0)\n",
    "        cv2.destroyAllWindows()\n",
    "    else:\n",
    "        print(\"Error: No descriptors found in one or both images.\")"
   ]
  },
  {
   "cell_type": "code",
   "execution_count": null,
   "id": "a3c2a352-8df7-4706-ab13-8097dc080025",
   "metadata": {},
   "outputs": [
    {
     "name": "stdout",
     "output_type": "stream",
     "text": [
      "Image saved as captured_image.jpg\n",
      "Matching keypoints found: 117\n",
      "✅ Faces Match!\n"
     ]
    }
   ],
   "source": [
    "\n",
    "\n",
    "\n",
    "\n",
    "\n",
    "\n",
    "\n",
    "if __name__ == \"__main__\":\n",
    "    stored_image = r\"C:\\Users\\HP\\Desktop\\likith\\likith_21.jpg\"  # Pre-saved reference image\n",
    "    if not check_file_exists(stored_image):\n",
    "        exit()\n",
    "    \n",
    "    capture_image(\"captured_image.jpg\")\n",
    "    match_faces(stored_image, \"captured_image.jpg\")\n"
   ]
  },
  {
   "cell_type": "code",
   "execution_count": null,
   "id": "cffe2f6a-154b-40e0-93a0-9598e6bbf7d9",
   "metadata": {},
   "outputs": [],
   "source": [
    "cv2.imshow(stored_image)\n",
    "cv2.imshow(\"captured_image.jpg\")"
   ]
  },
  {
   "cell_type": "code",
   "execution_count": null,
   "id": "4d6bc0cf-d970-43f2-903f-42cac1240dbf",
   "metadata": {},
   "outputs": [],
   "source": []
  }
 ],
 "metadata": {
  "kernelspec": {
   "display_name": "Python 3 (ipykernel)",
   "language": "python",
   "name": "python3"
  },
  "language_info": {
   "codemirror_mode": {
    "name": "ipython",
    "version": 3
   },
   "file_extension": ".py",
   "mimetype": "text/x-python",
   "name": "python",
   "nbconvert_exporter": "python",
   "pygments_lexer": "ipython3",
   "version": "3.12.4"
  }
 },
 "nbformat": 4,
 "nbformat_minor": 5
}
